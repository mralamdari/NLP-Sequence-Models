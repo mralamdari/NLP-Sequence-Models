{
  "nbformat": 4,
  "nbformat_minor": 0,
  "metadata": {
    "colab": {
      "name": "NLP-Sequence-Models-Beginner.ipynb",
      "provenance": [],
      "collapsed_sections": [],
      "authorship_tag": "ABX9TyPKgOV+/hZjmQmSs37aF9RZ",
      "include_colab_link": true
    },
    "kernelspec": {
      "name": "python3",
      "display_name": "Python 3"
    },
    "language_info": {
      "name": "python"
    }
  },
  "cells": [
    {
      "cell_type": "markdown",
      "metadata": {
        "id": "view-in-github",
        "colab_type": "text"
      },
      "source": [
        "<a href=\"https://colab.research.google.com/github/mr-alamdari/NLP-Sequence-Models-Beginner/blob/main/NLP_Sequence_Models_Beginner.ipynb\" target=\"_parent\"><img src=\"https://colab.research.google.com/assets/colab-badge.svg\" alt=\"Open In Colab\"/></a>"
      ]
    },
    {
      "cell_type": "code",
      "execution_count": 1,
      "metadata": {
        "id": "x0W9RKAVwSLZ"
      },
      "outputs": [],
      "source": [
        "import os\n",
        "import re\n",
        "import numpy\n",
        "import pickle"
      ]
    },
    {
      "cell_type": "code",
      "source": [
        "!pip install -q -U trax\n",
        "\n",
        "import trax\n",
        "\n",
        "import trax.fastmath.numpy as np\n",
        "\n",
        "from trax import layers as tl"
      ],
      "metadata": {
        "id": "uEwRNzEV2Ngn",
        "colab": {
          "base_uri": "https://localhost:8080/"
        },
        "outputId": "1911391a-cd89-4d36-cd4c-452d475fcf47"
      },
      "execution_count": 2,
      "outputs": [
        {
          "output_type": "stream",
          "name": "stdout",
          "text": [
            "\u001b[K     |████████████████████████████████| 637 kB 13.5 MB/s \n",
            "\u001b[K     |████████████████████████████████| 4.9 MB 83.4 MB/s \n",
            "\u001b[K     |████████████████████████████████| 462 kB 56.1 MB/s \n",
            "\u001b[?25h"
          ]
        }
      ]
    },
    {
      "cell_type": "code",
      "source": [
        "a = np.array(325)"
      ],
      "metadata": {
        "id": "6luyOIVn26zu",
        "colab": {
          "base_uri": "https://localhost:8080/"
        },
        "outputId": "b96f67ee-17a4-4cc8-cf8c-be0f8fbe1101"
      },
      "execution_count": 3,
      "outputs": [
        {
          "output_type": "stream",
          "name": "stderr",
          "text": [
            "WARNING:absl:No GPU/TPU found, falling back to CPU. (Set TF_CPP_MIN_LOG_LEVEL=0 and rerun for more info.)\n"
          ]
        }
      ]
    },
    {
      "cell_type": "code",
      "source": [
        "display(a)"
      ],
      "metadata": {
        "colab": {
          "base_uri": "https://localhost:8080/",
          "height": 34
        },
        "id": "gjI-PK9B30Ft",
        "outputId": "f3ca2c2a-aef7-47be-8a34-070e5bfeac84"
      },
      "execution_count": 4,
      "outputs": [
        {
          "output_type": "display_data",
          "data": {
            "text/plain": [
              "DeviceArray(325, dtype=int32, weak_type=True)"
            ]
          },
          "metadata": {}
        }
      ]
    },
    {
      "cell_type": "code",
      "source": [
        "type(a)"
      ],
      "metadata": {
        "colab": {
          "base_uri": "https://localhost:8080/"
        },
        "id": "Dylyy-re37yA",
        "outputId": "03211c7a-a4ec-4474-a84c-95e9947d4ec7"
      },
      "execution_count": 5,
      "outputs": [
        {
          "output_type": "execute_result",
          "data": {
            "text/plain": [
              "jaxlib.xla_extension.DeviceArray"
            ]
          },
          "metadata": {},
          "execution_count": 5
        }
      ]
    },
    {
      "cell_type": "code",
      "source": [
        "def f(x):\n",
        "  return 3 * x**2 - 32"
      ],
      "metadata": {
        "id": "4K48Dkpu39Et"
      },
      "execution_count": 6,
      "outputs": []
    },
    {
      "cell_type": "code",
      "source": [
        "d_a = f(a)\n",
        "d_a"
      ],
      "metadata": {
        "colab": {
          "base_uri": "https://localhost:8080/"
        },
        "id": "_FjMFcbd4KIl",
        "outputId": "1e194975-befa-40f6-8fa2-f917fd9572e1"
      },
      "execution_count": 7,
      "outputs": [
        {
          "output_type": "execute_result",
          "data": {
            "text/plain": [
              "DeviceArray(316843, dtype=int32, weak_type=True)"
            ]
          },
          "metadata": {},
          "execution_count": 7
        }
      ]
    },
    {
      "cell_type": "code",
      "source": [
        "grad_f = trax.fastmath.grad(fun=f)"
      ],
      "metadata": {
        "id": "sBBER4nA4LZJ"
      },
      "execution_count": 8,
      "outputs": []
    },
    {
      "cell_type": "code",
      "source": [
        "type(grad_f)"
      ],
      "metadata": {
        "colab": {
          "base_uri": "https://localhost:8080/"
        },
        "id": "uTb9EVLJ4Qyo",
        "outputId": "9e61f979-290b-40d3-94f2-1f5c4df9e58a"
      },
      "execution_count": 9,
      "outputs": [
        {
          "output_type": "execute_result",
          "data": {
            "text/plain": [
              "function"
            ]
          },
          "metadata": {},
          "execution_count": 9
        }
      ]
    },
    {
      "cell_type": "code",
      "source": [
        "def tweet_to_tensor(tweet, vocab_dict, unk_token='__UNK__', verbose=False):\n",
        "\n",
        "    word_list = process_tweet(tweet)\n",
        "    tensor_l = []\n",
        "    unk_ID = vocab_dict[unk_token]\n",
        "\n",
        "    for word in word_list:\n",
        "        word_ID = vocab_dict[word] if word in vocab_dict else unk_ID\n",
        "        tensor_l.append(word_ID) \n",
        "    \n",
        "    return tensor_l"
      ],
      "metadata": {
        "id": "8BWLHvyW4jgO"
      },
      "execution_count": 10,
      "outputs": []
    },
    {
      "cell_type": "code",
      "source": [
        "class Layer(object):\n",
        "    def __init__(self):\n",
        "        self.weights = None\n",
        "\n",
        "    def init(self, input_signature, random_key):\n",
        "        self.init_weights_and_state(input_signature, random_key)\n",
        "        return self.weights\n",
        "\n",
        "    def __call__(self, x):\n",
        "        return self.forward(x)"
      ],
      "metadata": {
        "id": "FJOVqiZGOMiv"
      },
      "execution_count": 11,
      "outputs": []
    },
    {
      "cell_type": "code",
      "source": [
        "class Relu(Layer):\n",
        "    def forward(self, x):\n",
        "        return np.maximum(x,0)"
      ],
      "metadata": {
        "id": "a0MXBVfTBehd"
      },
      "execution_count": 12,
      "outputs": []
    },
    {
      "cell_type": "code",
      "source": [
        "class Dense(Layer):\n",
        "\n",
        "    def __init__(self, n_units, init_stdev=0.1):\n",
        "        \n",
        "        self._n_units = n_units\n",
        "        self._init_stdev = init_stdev\n",
        "\n",
        "    def forward(self, x):\n",
        "        dense = np.dot(x, self.weights) \n",
        "        return dense\n",
        "\n",
        "    def init_weights_and_state(self, input_signature, random_key):\n",
        "        input_shape = input_signature.shape\n",
        "        w = self._init_stdev * trax.fastmath.random.normal(key = random_key, shape = (input_shape[-1], self._n_units))\n",
        "        self.weights = w\n",
        "        return self.weights"
      ],
      "metadata": {
        "id": "3OSjwW8wOny5"
      },
      "execution_count": 13,
      "outputs": []
    },
    {
      "cell_type": "code",
      "source": [
        "tmp_embed = np.array([[1,2,3], [4,5,6]])\n",
        "\n",
        "display(np.mean(tmp_embed,axis=0))\n",
        "\n",
        "display(np.mean(tmp_embed,axis=1))"
      ],
      "metadata": {
        "colab": {
          "base_uri": "https://localhost:8080/",
          "height": 52
        },
        "id": "wtGgjaX_O0l8",
        "outputId": "b3960dd1-df75-4434-c6ff-7f40eb152039"
      },
      "execution_count": 14,
      "outputs": [
        {
          "output_type": "display_data",
          "data": {
            "text/plain": [
              "DeviceArray([2.5, 3.5, 4.5], dtype=float32)"
            ]
          },
          "metadata": {}
        },
        {
          "output_type": "display_data",
          "data": {
            "text/plain": [
              "DeviceArray([2., 5.], dtype=float32)"
            ]
          },
          "metadata": {}
        }
      ]
    },
    {
      "cell_type": "code",
      "source": [
        "def classifier(vocab, embedding_dim=256, output_dim=2, mode='train'):\n",
        "    vocab_size=len(vocab)\n",
        "    embed_layer = tl.Embedding(vocab_size=vocab_size, d_feature=embedding_dim)\n",
        "    \n",
        "    mean_layer = tl.Mean(axis=1)\n",
        "    \n",
        "    dense_output_layer = tl.Dense(n_units = output_dim)\n",
        "\n",
        "    log_softmax_layer = tl.LogSoftmax()\n",
        "    \n",
        "    model = tl.Serial(\n",
        "      embed_layer,\n",
        "      mean_layer,\n",
        "      dense_output_layer,\n",
        "      log_softmax_layer\n",
        "    )\n",
        "\n",
        "    return model"
      ],
      "metadata": {
        "id": "pNE0XrytPE39"
      },
      "execution_count": 15,
      "outputs": []
    },
    {
      "cell_type": "code",
      "source": [
        "from trax.supervised import training\n",
        "\n",
        "def train_model(classifier, train_task, eval_task, n_steps, output_dir):\n",
        "    training_loop = training.Loop(\n",
        "                                classifier, # The learning model\n",
        "                                train_task, # The training task\n",
        "                                eval_task = eval_task, # The evaluation task\n",
        "                                output_dir = output_dir) # The output directory\n",
        "\n",
        "    training_loop.run(n_steps = n_steps)\n",
        "\n",
        "    return training_loop"
      ],
      "metadata": {
        "id": "ctgGCH56PfWq"
      },
      "execution_count": 16,
      "outputs": []
    },
    {
      "cell_type": "code",
      "source": [
        "def compute_accuracy(preds, y, y_weights):\n",
        "\n",
        "    is_pos =  preds[:, 1] > preds[:, 0] \n",
        "    is_pos_int = is_pos.astype(np.int32)\n",
        "    correct = is_pos_int == y\n",
        "    sum_weights = np.sum(y_weights)\n",
        "    correct_float = correct.astype(np.float32)\n",
        "    weighted_correct_float = correct_float * y_weights\n",
        "    weighted_num_correct = np.sum(weighted_correct_float)\n",
        "    accuracy = weighted_num_correct / sum_weights\n",
        "    return accuracy, weighted_num_correct, sum_weights"
      ],
      "metadata": {
        "id": "zCnOfHrAPp2v"
      },
      "execution_count": 17,
      "outputs": []
    },
    {
      "cell_type": "code",
      "source": [
        "def test_model(generator, model):\n",
        "    accuracy = 0.\n",
        "    total_num_correct = 0\n",
        "    total_num_pred = 0\n",
        "    for batch in generator: \n",
        "        inputs = batch[0]\n",
        "        targets = batch[1]\n",
        "        example_weight = batch[2]\n",
        "        pred = model(inputs)\n",
        "        batch_accuracy, batch_num_correct, batch_num_pred = compute_accuracy(pred, targets, example_weight)\n",
        "        total_num_correct += batch_num_correct\n",
        "        total_num_pred += batch_num_pred\n",
        "    accuracy = total_num_correct / total_num_pred\n",
        "    return accuracy"
      ],
      "metadata": {
        "id": "cnXFrem6QKR9"
      },
      "execution_count": 18,
      "outputs": []
    },
    {
      "cell_type": "code",
      "source": [
        "def predict(model, Vocab, sentence):\n",
        "    inputs = np.array(tweet_to_tensor(sentence, vocab_dict=Vocab))\n",
        "    \n",
        "    inputs = inputs[None, :]  \n",
        "    \n",
        "    preds_probs = model(inputs)\n",
        "    \n",
        "    preds = int(preds_probs[0, 1] > preds_probs[0, 0])\n",
        "    \n",
        "    sentiment = \"negative\"\n",
        "    if preds == 1:\n",
        "        sentiment = 'positive'\n",
        "\n",
        "    return preds, sentiment"
      ],
      "metadata": {
        "id": "MIjhU65vQTy9"
      },
      "execution_count": 19,
      "outputs": []
    },
    {
      "cell_type": "code",
      "source": [
        ""
      ],
      "metadata": {
        "id": "jl82WYN_QlRS"
      },
      "execution_count": 19,
      "outputs": []
    }
  ]
}